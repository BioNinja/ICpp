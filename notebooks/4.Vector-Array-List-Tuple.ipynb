{
 "cells": [
  {
   "cell_type": "code",
   "execution_count": 1,
   "metadata": {},
   "outputs": [
    {
     "data": {
      "text/plain": []
     },
     "execution_count": 1,
     "metadata": {},
     "output_type": "execute_result"
    }
   ],
   "source": [
    "#include <iostream>\n",
    "#include<vector>\n",
    "#include<array>\n",
    "#include<string>\n",
    "#include<algorithm>//算法  lambda表达式，不仅仅适用与array ,也适用于vector"
   ]
  },
  {
   "cell_type": "markdown",
   "metadata": {},
   "source": [
    "array 数据存储在栈区（stack）  \n",
    "vector 数组存储在堆区（heap）"
   ]
  },
  {
   "cell_type": "code",
   "execution_count": 2,
   "metadata": {},
   "outputs": [
    {
     "data": {
      "text/plain": [
       "(std::array<double, 4> &) @0x1096930b0\n"
      ]
     },
     "execution_count": 2,
     "metadata": {},
     "output_type": "execute_result"
    }
   ],
   "source": [
    "double db[4] = { 1.1, 2.2, 3.3, 4.4 };\n",
    "//std::array数据类型，double元素类型，4个数\n",
    "std::array<double, 4>  dbnew1 = { 10.1, 10.2, 10.3, 10.4 };\n",
    "std::array<double, 4>  dbnew2 = dbnew1;//可以实现数组之间整体操作"
   ]
  },
  {
   "cell_type": "code",
   "execution_count": 3,
   "metadata": {},
   "outputs": [
    {
     "name": "stdout",
     "output_type": "stream",
     "text": [
      "calc\n",
      "notepad\n",
      "tasklist\n",
      "mspaint\n",
      "write\n",
      "\n",
      "loop finished\n"
     ]
    },
    {
     "data": {
      "text/plain": [
       "(std::__1::basic_ostream &) @0x7fffea714660\n"
      ]
     },
     "execution_count": 3,
     "metadata": {},
     "output_type": "execute_result"
    }
   ],
   "source": [
    "std::array<std::string, 5> string1 = { \"calc\", \"notepad\", \"tasklist\", \"mspaint\", \"write\" };\n",
    "\n",
    "for (int i = 0; i < 5; i++)\n",
    "{\n",
    "    std::cout << string1[i] << std::endl;\n",
    "}\n",
    "std::cout<<\"\\nloop finished\"<<std::endl;"
   ]
  },
  {
   "cell_type": "code",
   "execution_count": 5,
   "metadata": {},
   "outputs": [
    {
     "data": {
      "text/plain": []
     },
     "execution_count": 5,
     "metadata": {},
     "output_type": "execute_result"
    }
   ],
   "source": [
    "void vec_print()\n",
    "{\n",
    "    std::vector<int> myvector;\n",
    "    myvector.push_back(1);//增\n",
    "    myvector.push_back(11);\n",
    "    myvector.push_back(111);\n",
    "    myvector.pop_back();//弹出一个元素，删除最后一个\n",
    "    myvector.insert(myvector.begin() +1, 999);//插入，\n",
    "    myvector.erase(myvector.begin()+5);//根据迭代器的位置\n",
    "    //myvector.clear();//删除所有元素\n",
    "    for (int i = 0; i < myvector.size(); i++)\n",
    "    {\n",
    "        std::cout << myvector.at(i) << std::endl;\n",
    "    }\n",
    "    std::cout<<\"\\n\"<<std::endl;\n",
    "}"
   ]
  },
  {
   "cell_type": "code",
   "execution_count": null,
   "metadata": {},
   "outputs": [],
   "source": [
    "vec_print();"
   ]
  },
  {
   "cell_type": "code",
   "execution_count": null,
   "metadata": {
    "collapsed": true
   },
   "outputs": [],
   "source": []
  }
 ],
 "metadata": {
  "kernelspec": {
   "display_name": "C++11",
   "language": "",
   "name": "cling-cpp11"
  },
  "language_info": {
   "codemirror_mode": "text/x-c++src",
   "file_extension": ".c++",
   "mimetype": " text/x-c++src",
   "name": "c++"
  }
 },
 "nbformat": 4,
 "nbformat_minor": 2
}
