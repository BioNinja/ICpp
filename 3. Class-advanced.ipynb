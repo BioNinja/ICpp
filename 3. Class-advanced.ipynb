{
 "cells": [
  {
   "cell_type": "markdown",
   "metadata": {},
   "source": [
    "# 类的继承、成员变量的初始化顺序\n",
    "\n",
    "1. 任何虚拟基类(virtual)的构造函数按照它们被继承的顺序构造；\n",
    "2. 任何非虚拟基类(non-virtual)的构造函数按照它们被继承的顺序构造；\n",
    "3. 任何成员对象(data member)的构造函数按照它们声明的顺序调用；\n",
    "4. 类自己的构造函数(self)"
   ]
  },
  {
   "cell_type": "code",
   "execution_count": 1,
   "metadata": {},
   "outputs": [
    {
     "data": {
      "text/plain": []
     },
     "execution_count": 1,
     "metadata": {},
     "output_type": "execute_result"
    }
   ],
   "source": [
    "#include <iostream>\n",
    "using namespace std;\n",
    "\n",
    "class B1\n",
    "{\n",
    "public:\n",
    "    B1(int i)\n",
    "    {\n",
    "        cout << \"B1 \" << i << endl;\n",
    "    }\n",
    "};\n",
    "\n",
    "class B2\n",
    "{\n",
    "public:\n",
    "    B2(int i)\n",
    "    {\n",
    "        cout << \"B2 \" << i << endl;\n",
    "    }\n",
    "};\n",
    "\n",
    "class B3\n",
    "{\n",
    "public:\n",
    "    B3()\n",
    "    {\n",
    "        cout << \"B3 \" << endl;\n",
    "    }\n",
    "};\n",
    "\n",
    "class Derived : public B2,  public B1, virtual public B3\n",
    "{\n",
    "public:\n",
    "    Derived(int a, int b, int c, int d, int e): B1(a), b2(d), b1(c), B2(b)\n",
    "    {\n",
    "        m = e;\n",
    "        cout << \"Derived\"<<endl;\n",
    "    }\n",
    "protected:\n",
    "    B1 b1;\n",
    "    B2 b2;\n",
    "    B3 b3;\n",
    "    int m;\n",
    "};"
   ]
  },
  {
   "cell_type": "code",
   "execution_count": 2,
   "metadata": {},
   "outputs": [
    {
     "name": "stdout",
     "output_type": "stream",
     "text": [
      "Initiation order of class constructors and class members:  \n",
      "B3 \n",
      "B2 2\n",
      "B1 1\n",
      "B1 3\n",
      "B2 4\n",
      "B3 \n",
      "Derived\n",
      "This is the end.\n"
     ]
    },
    {
     "data": {
      "text/plain": [
       "(std::__1::basic_ostream &) @0x7fffea714660\n"
      ]
     },
     "execution_count": 2,
     "metadata": {},
     "output_type": "execute_result"
    }
   ],
   "source": [
    "cout << \"Initiation order of class constructors and class members:  \"<<endl;\n",
    "Derived test(1, 2, 3, 4, 5);\n",
    "cout << \"This is the end.\"<<endl;"
   ]
  },
  {
   "cell_type": "code",
   "execution_count": null,
   "metadata": {
    "collapsed": true
   },
   "outputs": [],
   "source": []
  }
 ],
 "metadata": {
  "kernelspec": {
   "display_name": "C++11",
   "language": "",
   "name": "cling-cpp11"
  },
  "language_info": {
   "codemirror_mode": "text/x-c++src",
   "file_extension": ".c++",
   "mimetype": " text/x-c++src",
   "name": "c++"
  }
 },
 "nbformat": 4,
 "nbformat_minor": 2
}
