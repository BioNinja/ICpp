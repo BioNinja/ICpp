{
 "cells": [
  {
   "cell_type": "code",
   "execution_count": 1,
   "metadata": {},
   "outputs": [
    {
     "name": "stdout",
     "output_type": "stream",
     "text": [
      "Weclome to my cpp notes\n"
     ]
    },
    {
     "data": {
      "text/plain": [
       "(std::__1::basic_ostream &) @0x7fffea714660\n"
      ]
     },
     "execution_count": 1,
     "metadata": {},
     "output_type": "execute_result"
    }
   ],
   "source": [
    "#include<iostream>\n",
    "#include<stdlib.h>\n",
    "using namespace std;\n",
    "cout <<\"Weclome to my cpp notes\"<<endl;"
   ]
  },
  {
   "cell_type": "markdown",
   "metadata": {},
   "source": [
    "数组的引用\n",
    "\n",
    "```cpp\n",
    "int a[10]；\n",
    "int (&ra)[10]；//错误，引用必须初始化： int (&ra)[10](a);\n",
    "int a[2][5]；\n",
    "int (&ra)[2][5]；//错误\n",
    "```"
   ]
  },
  {
   "cell_type": "code",
   "execution_count": 2,
   "metadata": {},
   "outputs": [
    {
     "data": {
      "text/plain": [
       "(int [10]) { 0, 0, 0, 0, 0, 0, 0, 0, 0, 0 }\n"
      ]
     },
     "execution_count": 2,
     "metadata": {},
     "output_type": "execute_result"
    }
   ],
   "source": [
    "int a[10];"
   ]
  },
  {
   "cell_type": "code",
   "execution_count": 3,
   "metadata": {},
   "outputs": [
    {
     "data": {
      "text/plain": [
       "(int [10]) { 0, 0, 0, 0, 0, 0, 0, 0, 0, 0 }\n"
      ]
     },
     "execution_count": 3,
     "metadata": {},
     "output_type": "execute_result"
    }
   ],
   "source": [
    "int (&ra)[10] = a;"
   ]
  },
  {
   "cell_type": "code",
   "execution_count": 4,
   "metadata": {},
   "outputs": [
    {
     "name": "stdout",
     "output_type": "stream",
     "text": [
      "0x1016b03d0\n",
      "0x1016b03d0\n"
     ]
    },
    {
     "data": {
      "text/plain": [
       "(std::__1::basic_ostream &) @0x7fffea714660\n"
      ]
     },
     "execution_count": 4,
     "metadata": {},
     "output_type": "execute_result"
    }
   ],
   "source": [
    "std::cout<<&a<<std::endl;\n",
    "std::cout<<&ra<<std::endl;"
   ]
  },
  {
   "cell_type": "code",
   "execution_count": null,
   "metadata": {},
   "outputs": [],
   "source": [
    "int a[2][5] = { 1, 2, 3, 4, 5, 6, 7, 8, 9, 10 };\n",
    "int(&ra)[2][5](a);//\n",
    "for (int i = 0; i < 2; i++)\n",
    "{\n",
    "    for (int j = 0; j < 5; j++)\n",
    "    {\n",
    "         std::cout << \" \" << ra[i][j];\n",
    "    }\n",
    "     std::cout << \"\\n\";\n",
    "}"
   ]
  },
  {
   "cell_type": "code",
   "execution_count": 1,
   "metadata": {},
   "outputs": [
    {
     "name": "stderr",
     "output_type": "stream",
     "text": [
      "In file included from input_line_2:1:\n",
      "\u001b[1m/Users/bioninja/program/cling_2017-04-29_mac1012/include/cling/Interpreter/RuntimeUniverse.h:165:11: \u001b[0m\u001b[0;1;31merror: \u001b[0m\u001b[1marray 'new' cannot have initialization arguments\u001b[0m\n",
      "          new ((void*)(((T*)placement) + i)) T(src[i]);\n",
      "\u001b[0;1;32m          ^                                    ~~~~~~\n",
      "\u001b[0m\u001b[0;1;30mnote: \u001b[0min instantiation of function template specialization 'cling::runtime::internal::copyArray<int [5]>' requested here\u001b[0m\n"
     ]
    },
    {
     "ename": "ename",
     "evalue": "evalue",
     "output_type": "error",
     "traceback": []
    }
   ],
   "source": []
  },
  {
   "cell_type": "code",
   "execution_count": 2,
   "metadata": {},
   "outputs": [
    {
     "name": "stderr",
     "output_type": "stream",
     "text": [
      "\u001b[1minput_line_7:7:1: \u001b[0m\u001b[0;1;31merror: \u001b[0m\u001b[1mfunction definition is not allowed here\u001b[0m\n",
      "{\n",
      "\u001b[0;1;32m^\n",
      "\u001b[0m\u001b[1minput_line_7:12:1: \u001b[0m\u001b[0;1;31merror: \u001b[0m\u001b[1mfunction definition is not allowed here\u001b[0m\n",
      "{\n",
      "\u001b[0;1;32m^\n",
      "\u001b[0m"
     ]
    },
    {
     "ename": "ename",
     "evalue": "evalue",
     "output_type": "error",
     "traceback": []
    }
   ],
   "source": [
    "int jia(int a, int b)\n",
    "{\n",
    "\treturn a + b;\n",
    "}\n",
    "int jian(int a, int b)\n",
    "{\n",
    "\treturn a - b;\n",
    "}\n",
    "\n",
    "void change(int(* & rp)(int,int))\n",
    "{\n",
    "\trp = jian;\n",
    "}"
   ]
  },
  {
   "cell_type": "code",
   "execution_count": null,
   "metadata": {
    "collapsed": true
   },
   "outputs": [],
   "source": []
  }
 ],
 "metadata": {
  "kernelspec": {
   "display_name": "C++11",
   "language": "",
   "name": "cling-cpp11"
  },
  "language_info": {
   "codemirror_mode": "text/x-c++src",
   "file_extension": ".c++",
   "mimetype": " text/x-c++src",
   "name": "c++"
  }
 },
 "nbformat": 4,
 "nbformat_minor": 2
}
