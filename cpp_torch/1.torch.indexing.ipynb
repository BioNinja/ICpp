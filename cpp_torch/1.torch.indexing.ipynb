{
 "cells": [
  {
   "cell_type": "code",
   "execution_count": 1,
   "metadata": {},
   "outputs": [
    {
     "name": "stderr",
     "output_type": "stream",
     "text": [
      "cling::DynamicLibraryManager::loadLibrary(): dlopen(/Users/zqfang/Github/XCpp/libtorch/lib/libtorch_cpu.dylib, 9): Library not loaded: @rpath/libiomp5.dylib\n",
      "  Referenced from: /Users/zqfang/Github/XCpp/libtorch/lib/libtorch_cpu.dylib\n",
      "  Reason: image not found\n",
      "cling::DynamicLibraryManager::loadLibrary(): dlopen(/Users/zqfang/Github/XCpp/libtorch/lib/libtorch.dylib, 9): Library not loaded: @rpath/libtorch_cpu.dylib\n",
      "  Referenced from: /Users/zqfang/Github/XCpp/libtorch/lib/libtorch.dylib\n",
      "  Reason: image not found\n",
      "cling::DynamicLibraryManager::loadLibrary(): dlopen(/Users/zqfang/Github/XCpp/libtorch/lib/libtorch_global_deps.dylib, 9): Library not loaded: @rpath/libiomp5.dylib\n",
      "  Referenced from: /Users/zqfang/Github/XCpp/libtorch/lib/libtorch_global_deps.dylib\n",
      "  Reason: image not found\n",
      "cling::DynamicLibraryManager::loadLibrary(): dlopen(/Users/zqfang/Github/XCpp/libtorch/lib/libtorch_python.dylib, 9): Library not loaded: @rpath/libshm.dylib\n",
      "  Referenced from: /Users/zqfang/Github/XCpp/libtorch/lib/libtorch_python.dylib\n",
      "  Reason: image not found\n",
      "cling::DynamicLibraryManager::loadLibrary(): dlopen(/Users/zqfang/Github/XCpp/libtorch/lib/libshm.dylib, 9): Library not loaded: @rpath/libiomp5.dylib\n",
      "  Referenced from: /Users/zqfang/Github/XCpp/libtorch/lib/libshm.dylib\n",
      "  Reason: image not found\n",
      "cling::DynamicLibraryManager::loadLibrary(): dlopen(/Users/zqfang/Github/XCpp/libtorch/lib/libcaffe2_detectron_ops.dylib, 9): Library not loaded: @rpath/libiomp5.dylib\n",
      "  Referenced from: /Users/zqfang/Github/XCpp/libtorch/lib/libcaffe2_detectron_ops.dylib\n",
      "  Reason: image not found\n",
      "cling::DynamicLibraryManager::loadLibrary(): dlopen(/Users/zqfang/Github/XCpp/libtorch/lib/libcaffe2_module_test_dynamic.dylib, 9): Library not loaded: @rpath/libiomp5.dylib\n",
      "  Referenced from: /Users/zqfang/Github/XCpp/libtorch/lib/libcaffe2_module_test_dynamic.dylib\n",
      "  Reason: image not found\n",
      "cling::DynamicLibraryManager::loadLibrary(): dlopen(/Users/zqfang/Github/XCpp/libtorch/lib/libcaffe2_observers.dylib, 9): Library not loaded: @rpath/libiomp5.dylib\n",
      "  Referenced from: /Users/zqfang/Github/XCpp/libtorch/lib/libcaffe2_observers.dylib\n",
      "  Reason: image not found\n"
     ]
    }
   ],
   "source": [
    "// libTorch 1.5\n",
    "// Load all LibTorch dependencies for cling\n",
    "#pragma cling add_library_path(\"/Users/zqfang/Github/XCpp/libtorch/lib\")\n",
    "#pragma cling add_include_path(\"/Users/zqfang/Github/XCpp/libtorch/include/\")\n",
    "#pragma cling add_include_path(\"/Users/zqfang/Github/XCpp/libtorch/include/torch/csrc/api/include/\")\n",
    "\n",
    "// Note: This is loaded for macOS environment, for Linux try loading *.so files\n",
    "#pragma cling load(\"/Users/zqfang/Github/XCpp/libtorch/lib/libc10.dylib\")\n",
    "#pragma cling load(\"/Users/zqfang/Github/XCpp/libtorch/lib/libiomp5.dylib\")\n",
    "#pragma cling load(\"/Users/zqfang/Github/XCpp/libtorch/lib/libtorch_cpu.dylib\")\n",
    "#pragma cling load(\"/Users/zqfang/Github/XCpp/libtorch/lib/libtorch.dylib\")\n",
    "#pragma cling load(\"/Users/zqfang/Github/XCpp/libtorch/lib/libtorch_global_deps.dylib\")\n",
    "\n",
    "#pragma cling load(\"/Users/zqfang/Github/XCpp/libtorch/lib/libfbjni.dylib\")\n",
    "#pragma cling load(\"/Users/zqfang/Github/XCpp/libtorch/lib/libpytorch_jni.dylib\")\n",
    "#pragma cling load(\"/Users/zqfang/Github/XCpp/libtorch/lib/libtorch_python.dylib\")\n",
    "#pragma cling load(\"/Users/zqfang/Github/XCpp/libtorch/lib/libshm.dylib\")\n",
    "\n",
    "#pragma cling load(\"/Users/zqfang/Github/XCpp/libtorch/lib/libcaffe2_detectron_ops.dylib\")\n",
    "#pragma cling load(\"/Users/zqfang/Github/XCpp/libtorch/lib/libcaffe2_module_test_dynamic.dylib\")\n",
    "#pragma cling load(\"/Users/zqfang/Github/XCpp/libtorch/lib/libcaffe2_observers.dylib\")"
   ]
  },
  {
   "cell_type": "code",
   "execution_count": 2,
   "metadata": {},
   "outputs": [],
   "source": [
    "#include <torch/torch.h>\n",
    "#include <iostream>\n",
    "\n",
    "using namespace torch::indexing;"
   ]
  },
  {
   "cell_type": "code",
   "execution_count": 3,
   "metadata": {},
   "outputs": [
    {
     "name": "stdout",
     "output_type": "stream",
     "text": [
      "1 2 3 4 5 6 7 8 9\n"
     ]
    }
   ],
   "source": [
    "std::vector<float> data_vector{1, 2, 3, 4, 5, 6, 7, 8, 9};\n",
    "std::cout << data_vector << std::endl;"
   ]
  },
  {
   "cell_type": "code",
   "execution_count": 4,
   "metadata": {},
   "outputs": [
    {
     "name": "stdout",
     "output_type": "stream",
     "text": [
      " 1  2  3\n",
      " 4  5  6\n",
      " 7  8  9\n",
      "[ CPUFloatType{3,3} ]\n"
     ]
    }
   ],
   "source": [
    "at::Tensor tensor_2d = torch::from_blob(data_vector.data(), {3, 3});\n",
    "std::cout << tensor_2d << std::endl;"
   ]
  },
  {
   "cell_type": "code",
   "execution_count": 5,
   "metadata": {},
   "outputs": [
    {
     "name": "stdout",
     "output_type": "stream",
     "text": [
      " 1  2  3\n",
      " 4  5  6\n",
      " 7  8  9\n",
      "[ CPUFloatType{3,3} ]\n",
      " 7\n",
      " 8\n",
      " 9\n",
      "[ CPUFloatType{3} ]\n",
      " 2\n",
      " 5\n",
      " 8\n",
      "[ CPUFloatType{3} ]\n"
     ]
    }
   ],
   "source": [
    "// 2-D Tensor\n",
    "std::cout << tensor_2d.index({Slice()}) << std::endl;\n",
    "std::cout << tensor_2d.index({2}) << std::endl;\n",
    "std::cout << tensor_2d.index({Slice(), 1}) << std::endl;"
   ]
  },
  {
   "cell_type": "code",
   "execution_count": 6,
   "metadata": {},
   "outputs": [
    {
     "name": "stdout",
     "output_type": "stream",
     "text": [
      " 1\n",
      " 2\n",
      " 3\n",
      " 4\n",
      " 5\n",
      " 6\n",
      " 7\n",
      " 8\n",
      " 9\n",
      "[ CPUFloatType{9} ]\n"
     ]
    }
   ],
   "source": [
    "at::Tensor tensor_1d = torch::from_blob(data_vector.data(), {9});\n",
    "std::cout << tensor_1d << std::endl;"
   ]
  },
  {
   "cell_type": "code",
   "execution_count": 7,
   "metadata": {},
   "outputs": [
    {
     "name": "stdout",
     "output_type": "stream",
     "text": [
      " 1\n",
      " 2\n",
      " 3\n",
      " 4\n",
      " 5\n",
      " 6\n",
      " 7\n",
      " 8\n",
      " 9\n",
      "[ CPUFloatType{9} ]\n",
      " 3\n",
      " 4\n",
      " 5\n",
      " 6\n",
      " 7\n",
      " 8\n",
      " 9\n",
      "[ CPUFloatType{7} ]\n",
      " 1\n",
      " 2\n",
      "[ CPUFloatType{2} ]\n",
      " 3\n",
      " 4\n",
      " 5\n",
      "[ CPUFloatType{3} ]\n"
     ]
    },
    {
     "data": {
      "text/plain": [
       "@0x10e392ed0"
      ]
     },
     "execution_count": 7,
     "metadata": {},
     "output_type": "execute_result"
    }
   ],
   "source": [
    "// ---------- SLICING ---------- //\n",
    "// 1-D Tensor\n",
    "std::cout << tensor_1d.index({Slice()}) << std::endl; // tensor_1d[:]\n",
    "std::cout << tensor_1d.index({Slice(2, None)}) << std::endl; // tensor_1d[2:]\n",
    "std::cout << tensor_1d.index({Slice(None, 2)}) << std::endl; // tensor_1d[:2]\n",
    "std::cout << tensor_1d.index({Slice(2, 5)}) << std::endl; // tensor_1d[2:5]"
   ]
  },
  {
   "cell_type": "code",
   "execution_count": 8,
   "metadata": {},
   "outputs": [
    {
     "name": "stdout",
     "output_type": "stream",
     "text": [
      "(1,.,.) = \n",
      "  1  2  3\n",
      "  4  5  6\n",
      "  7  8  9\n",
      "\n",
      "(2,.,.) = \n",
      "  10  11  12\n",
      "  13  14  15\n",
      "  16  17  18\n",
      "\n",
      "(3,.,.) = \n",
      "  19  20  21\n",
      "  22  23  24\n",
      "  25  26  17\n",
      "[ CPULongType{3,3,3} ]\n"
     ]
    }
   ],
   "source": [
    "at::Tensor tensor_3d = torch::tensor({\n",
    "    {\n",
    "        {1, 2, 3}, \n",
    "        {4, 5, 6}, \n",
    "        {7, 8, 9}\n",
    "    },\n",
    "    {\n",
    "        {10, 11, 12}, \n",
    "        {13, 14, 15}, \n",
    "        {16, 17, 18}\n",
    "    },\n",
    "    {\n",
    "        {19, 20, 21}, \n",
    "        {22, 23, 24}, \n",
    "        {25, 26, 17}\n",
    "    }\n",
    "});\n",
    "std::cout << tensor_3d << std::endl;"
   ]
  },
  {
   "cell_type": "code",
   "execution_count": 9,
   "metadata": {},
   "outputs": [
    {
     "name": "stdout",
     "output_type": "stream",
     "text": [
      " 16\n",
      " 17\n",
      " 18\n",
      "[ CPULongType{3} ]\n",
      " 2\n",
      " 5\n",
      " 8\n",
      "[ CPULongType{3} ]\n",
      "  6\n",
      " 15\n",
      " 24\n",
      "[ CPULongType{3} ]\n",
      " 19  20  21\n",
      " 22  23  24\n",
      " 25  26  17\n",
      "[ CPULongType{3,3} ]\n",
      "  4   5   6\n",
      " 13  14  15\n",
      " 22  23  24\n",
      "[ CPULongType{3,3} ]\n",
      "  1   4   7\n",
      " 10  13  16\n",
      " 19  22  25\n",
      "[ CPULongType{3,3} ]\n"
     ]
    }
   ],
   "source": [
    "// 3-D Tensor\n",
    "std::cout << tensor_3d.index({1, 2}) << std::endl;\n",
    "std::cout << tensor_3d.index({0, Slice(), 1}) << std::endl;\n",
    "std::cout << tensor_3d.index({Slice(), 1, 2}) << std::endl;\n",
    "std::cout << tensor_3d.index({2}) << std::endl;\n",
    "std::cout << tensor_3d.index({Slice(), 1}) << std::endl;\n",
    "std::cout << tensor_3d.index({Slice(), Slice(), 0}) << std::endl;"
   ]
  },
  {
   "cell_type": "code",
   "execution_count": null,
   "metadata": {},
   "outputs": [],
   "source": []
  }
 ],
 "metadata": {
  "kernelspec": {
   "display_name": "C++17",
   "language": "C++17",
   "name": "xcpp17"
  },
  "language_info": {
   "codemirror_mode": "text/x-c++src",
   "file_extension": ".cpp",
   "mimetype": "text/x-c++src",
   "name": "c++",
   "version": "17"
  }
 },
 "nbformat": 4,
 "nbformat_minor": 4
}
