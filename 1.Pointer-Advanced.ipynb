{
 "cells": [
  {
   "cell_type": "markdown",
   "metadata": {},
   "source": [
    "# 指针函数， 二级指针"
   ]
  },
  {
   "cell_type": "code",
   "execution_count": 3,
   "metadata": {},
   "outputs": [
    {
     "name": "stdout",
     "output_type": "stream",
     "text": [
      "0x1029ef448\n",
      "0x1029ef458\n",
      "10\n",
      "10\n"
     ]
    },
    {
     "data": {
      "text/plain": [
       "(std::__1::basic_ostream &) @0x7fffec9f9660\n"
      ]
     },
     "execution_count": 3,
     "metadata": {},
     "output_type": "execute_result"
    }
   ],
   "source": [
    "int num=10;\n",
    "int *p = &num;\n",
    "int **pp = &p;\n",
    "cout<< *pp<<endl;\n",
    "cout<< &pp <<endl;\n",
    "\n",
    "cout << **pp<<endl;\n",
    "cout <<num<<endl;"
   ]
  },
  {
   "cell_type": "code",
   "execution_count": 2,
   "metadata": {},
   "outputs": [
    {
     "name": "stderr",
     "output_type": "stream",
     "text": [
      "\u001b[1minput_line_4:3:10: \u001b[0m\u001b[0;1;31merror: \u001b[0m\u001b[1mno member named 'cout' in namespace 'std'\u001b[0m\n",
      "    std::cout<<\"this is a pointer points to a function :\"<< args<< std::endl;\n",
      "\u001b[0;1;32m    ~~~~~^\n",
      "\u001b[0m\u001b[1minput_line_4:3:73: \u001b[0m\u001b[0;1;31merror: \u001b[0m\u001b[1mno member named 'endl' in namespace 'std'\u001b[0m\n",
      "    std::cout<<\"this is a pointer points to a function :\"<< args<< std::endl;\n",
      "\u001b[0;1;32m                                                                   ~~~~~^\n",
      "\u001b[0m\u001b[1minput_line_4:7:7: \u001b[0m\u001b[0;1;35mwarning: \u001b[0m\u001b[1mISO C++11 does not allow conversion from string literal to 'char *' [-Wwritable-strings]\u001b[0m\n",
      "pfunc(\"test\");\n",
      "\u001b[0;1;32m      ^\n",
      "\u001b[0m"
     ]
    },
    {
     "ename": "ename",
     "evalue": "evalue",
     "output_type": "error",
     "traceback": []
    }
   ],
   "source": [
    "void print(char* args)\n",
    "{\n",
    "    std::cout<<\"this is a pointer points to a function :\"<< args<< std::endl;\n",
    "}\n",
    "void (*pfunc)(char * args) = print;\n",
    "pfunc(\"test\");"
   ]
  },
  {
   "cell_type": "markdown",
   "metadata": {},
   "source": [
    "# 左值和右值的引用"
   ]
  },
  {
   "cell_type": "code",
   "execution_count": 2,
   "metadata": {},
   "outputs": [
    {
     "name": "stdout",
     "output_type": "stream",
     "text": [
      "0x10ad15098\n"
     ]
    },
    {
     "data": {
      "text/plain": [
       "(std::__1::basic_ostream &) @0x7fffec9f9660\n"
      ]
     },
     "execution_count": 2,
     "metadata": {},
     "output_type": "execute_result"
    }
   ],
   "source": [
    "int num2 = 5;\n",
    "int &ref_num = num2;\n",
    "int * && ref_num2 = &ref_num;\n",
    "std::cout<<ref_num2<<std::endl;"
   ]
  },
  {
   "cell_type": "code",
   "execution_count": 3,
   "metadata": {},
   "outputs": [
    {
     "name": "stdout",
     "output_type": "stream",
     "text": [
      "5\n",
      "5\n",
      "5\n"
     ]
    },
    {
     "data": {
      "text/plain": [
       "(std::__1::basic_ostream &) @0x7fffec9f9660\n"
      ]
     },
     "execution_count": 3,
     "metadata": {},
     "output_type": "execute_result"
    }
   ],
   "source": [
    "std::cout<<*ref_num2<<std::endl;\n",
    "std::cout<<ref_num<<std::endl;\n",
    "std::cout<<num2<<std::endl;"
   ]
  },
  {
   "cell_type": "markdown",
   "metadata": {},
   "source": [
    "# 函数指针的引用\n",
    "\n",
    "1. 一般引用\n",
    "\n",
    "声明指针函数：\n",
    "```cpp\n",
    "    int func( double );  \n",
    "    int (* const pfunc)(double) = func;       // pfunc是指向函数func()的常量指针  \n",
    "    int (&rfunc)(double) = func;                  // rfunc是函数func()的引用\n",
    "```    \n",
    "从编码实践角度来看，指向函数的常量指针和函数的引用并无很大不同。除了一点，那就是指针可以显式地使用反引用语法，而对引用是不能使用显式反引 用语法的，除非它被隐式转换成指向函数的指针 。\n",
    "```cpp\n",
    "    a = pfunc( 12.3 );          // 直接用函数指针名调用函数  \n",
    "    a = (*pfunc)(12.3);         // 使用反引用语法也是可以的  \n",
    "    a = rfunc( 12.3 );          // 通过引用调用函数  \n",
    "    a = func( 12.3 );           // 直接调用函数本身  \n",
    "    a = (*rfunc)(12.3);         // 把引用(隐式)转换成指向函数的指针,再使用反引用语法  \n",
    "    a = (*func)(12.3);          // 把函数本身(隐式)转换成指向函数的指针,再使用反引用语法 \n",
    "```    \n",
    "2. 函数指针的引用\n",
    "\n",
    "看懂声明,注意cpp的初始化的方法：\n",
    "```cpp\n",
    "    int (*& rp)(double) = func; // int (*& rp)(int, int) ?\n",
    "    int(*& changeP)(int (*& rp)(int, int)))(int, int) //看懂？ 其中一个是函数引用的参数\n",
    "```"
   ]
  },
  {
   "cell_type": "code",
   "execution_count": 4,
   "metadata": {},
   "outputs": [
    {
     "data": {
      "text/plain": []
     },
     "execution_count": 4,
     "metadata": {},
     "output_type": "execute_result"
    }
   ],
   "source": [
    "void print(char* args)\n",
    "{\n",
    "    std::cout<<\"this is a pointer points to a function :\"<< args<< std::endl;\n",
    "}"
   ]
  },
  {
   "cell_type": "code",
   "execution_count": null,
   "metadata": {},
   "outputs": [
    {
     "name": "stderr",
     "output_type": "stream",
     "text": [
      "\u001b[1minput_line_11:3:9: \u001b[0m\u001b[0;1;31merror: \u001b[0m\u001b[1mexpected "
     ]
    }
   ],
   "source": [
    "void (*pfunc)(char * args) = print;//pointer of function\n",
    "void (*&) rfunc(char * args) = pfunc;//reference of function"
   ]
  },
  {
   "cell_type": "markdown",
   "metadata": {},
   "source": [
    "# Const 指针区别"
   ]
  },
  {
   "cell_type": "markdown",
   "metadata": {},
   "source": [
    "1. int const *  |  p  \n",
    "p就是一个普通的指针变量，可以指向任意一个int值，但是指向的int值是一个不变常量\n",
    "\n",
    "2. int *  |  const p \n",
    "p是const常量，p是const所以不能变，也就是p指向的地址不可变，但是指向的地址中对应的内存是可改变的"
   ]
  },
  {
   "cell_type": "code",
   "execution_count": null,
   "metadata": {
    "collapsed": true
   },
   "outputs": [],
   "source": [
    "int num3=10;\n",
    "const int *p1 = &num3;\n",
    "int const *p2 = &num3;\n",
    "int * const p3= &num3;\n",
    "\n",
    "const int * const p4 = &num3;\n",
    "int const * const p5 = &num3; //表示p5是一个指针常量"
   ]
  },
  {
   "cell_type": "markdown",
   "metadata": {},
   "source": [
    "# 类的定义"
   ]
  },
  {
   "cell_type": "code",
   "execution_count": 4,
   "metadata": {},
   "outputs": [
    {
     "data": {
      "text/plain": []
     },
     "execution_count": 4,
     "metadata": {},
     "output_type": "execute_result"
    }
   ],
   "source": [
    "class Object\n",
    "{\n",
    "    private:\n",
    "        int a,b;\n",
    "    public:\n",
    "        Object(int m, int n):a(m),b(n) {cout<<\"hello, test object\\n\";}\n",
    "        void print()\n",
    "        {\n",
    "            cout<<a<<\" \"<<b<<endl;\n",
    "        }\n",
    "};"
   ]
  },
  {
   "cell_type": "code",
   "execution_count": 5,
   "metadata": {},
   "outputs": [
    {
     "name": "stdout",
     "output_type": "stream",
     "text": [
      "hello, test object\n",
      "5 55\n"
     ]
    },
    {
     "data": {
      "text/plain": [
       "(void) @0x7fff5d847610\n"
      ]
     },
     "execution_count": 5,
     "metadata": {},
     "output_type": "execute_result"
    }
   ],
   "source": [
    "Object obj(5,55);\n",
    "obj.print();"
   ]
  },
  {
   "cell_type": "markdown",
   "metadata": {},
   "source": [
    "# 类的继承、成员变量的初始化顺序\n",
    "\n",
    "1. 任何虚拟基类(virtual)的构造函数按照它们被继承的顺序构造；\n",
    "2. 任何非虚拟基类(non-virtual)的构造函数按照它们被继承的顺序构造；\n",
    "3. 任何成员对象(data member)的构造函数按照它们声明的顺序调用；\n",
    "4. 类自己的构造函数(self)"
   ]
  },
  {
   "cell_type": "code",
   "execution_count": 1,
   "metadata": {},
   "outputs": [
    {
     "data": {
      "text/plain": []
     },
     "execution_count": 1,
     "metadata": {},
     "output_type": "execute_result"
    }
   ],
   "source": [
    "#include <iostream>\n",
    "using namespace std;\n",
    "\n",
    "class B1\n",
    "{\n",
    "public:\n",
    "    B1(int i)\n",
    "    {\n",
    "        cout << \"B1 \" << i << endl;\n",
    "    }\n",
    "};\n",
    "\n",
    "class B2\n",
    "{\n",
    "public:\n",
    "    B2(int i)\n",
    "    {\n",
    "        cout << \"B2 \" << i << endl;\n",
    "    }\n",
    "};\n",
    "\n",
    "class B3\n",
    "{\n",
    "public:\n",
    "    B3()\n",
    "    {\n",
    "        cout << \"B3 \" << endl;\n",
    "    }\n",
    "};\n",
    "\n",
    "class Derived : public B2,  public B1, virtual public B3\n",
    "{\n",
    "public:\n",
    "    Derived(int a, int b, int c, int d, int e): B1(a), b2(d), b1(c), B2(b)\n",
    "    {\n",
    "        m = e;\n",
    "        cout << \"Derived\"<<endl;\n",
    "    }\n",
    "protected:\n",
    "    B1 b1;\n",
    "    B2 b2;\n",
    "    B3 b3;\n",
    "    int m;\n",
    "};"
   ]
  },
  {
   "cell_type": "code",
   "execution_count": 3,
   "metadata": {},
   "outputs": [
    {
     "name": "stdout",
     "output_type": "stream",
     "text": [
      "Initiation order of class constructors and class members:  \n",
      "B3 \n",
      "B2 2\n",
      "B1 1\n",
      "B1 3\n",
      "B2 4\n",
      "B3 \n",
      "Derived\n",
      "This is the end.\n"
     ]
    },
    {
     "data": {
      "text/plain": [
       "(std::__1::basic_ostream &) @0x7fffec9f9660\n"
      ]
     },
     "execution_count": 3,
     "metadata": {},
     "output_type": "execute_result"
    }
   ],
   "source": [
    "cout << \"Initiation order of class constructors and class members:  \"<<endl;\n",
    "Derived test(1, 2, 3, 4, 5);\n",
    "cout << \"This is the end.\"<<endl;"
   ]
  },
  {
   "cell_type": "code",
   "execution_count": null,
   "metadata": {
    "collapsed": true
   },
   "outputs": [],
   "source": []
  }
 ],
 "metadata": {
  "kernelspec": {
   "display_name": "C++11",
   "language": "",
   "name": "cling-cpp11"
  },
  "language_info": {
   "codemirror_mode": "text/x-c++src",
   "file_extension": ".c++",
   "mimetype": " text/x-c++src",
   "name": "c++"
  }
 },
 "nbformat": 4,
 "nbformat_minor": 2
}
