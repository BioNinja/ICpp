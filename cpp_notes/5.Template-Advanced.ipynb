{
 "cells": [
  {
   "cell_type": "markdown",
   "metadata": {},
   "source": [
    "# Template basics\n",
    "\n",
    "\n",
    "```cpp\n",
    "#include<iostream>\n",
    "\n",
    "template<typename T, typename F>\n",
    "void test(T t, F f)\n",
    "{\n",
    "    std::cout<<\"tempate function\"<<std::endl;\n",
    "}\n",
    "```"
   ]
  },
  {
   "cell_type": "markdown",
   "metadata": {},
   "source": [
    "# Decorator in C++\n",
    "\n",
    "using template to decorate a funciton\n",
    "\n",
    "函数包装器用途    \n",
    "\n",
    "1. 设计执行接口,接口设计关卡（），计数\n",
    "2. 函数包装器依赖于函数模板，实现通用泛型\n",
    "3. 函数代码可以内嵌在另外一个函数，实现函数怀孕\n",
    "4. 函数包装器，用于管理内嵌函数，外部函数调用"
   ]
  },
  {
   "cell_type": "code",
   "execution_count": 1,
   "metadata": {},
   "outputs": [],
   "source": [
    "#include<iostream>\n",
    "#include<functional>\n",
    "using std::function; //C++11"
   ]
  },
  {
   "cell_type": "code",
   "execution_count": 2,
   "metadata": {},
   "outputs": [],
   "source": [
    "double fu(double)\n",
    "{\n",
    "    std::cout<<\"func3\"<<std::endl;\n",
    "    return 3.0;\n",
    "}"
   ]
  },
  {
   "cell_type": "code",
   "execution_count": null,
   "metadata": {},
   "outputs": [],
   "source": [
    "// lambda expression in C++11\n",
    "function<double(double)> func1 = [] (double) \n",
    "{\n",
    "    std::cout<<\"func1\"<<std::endl;\n",
    "    return 1.0;\n",
    "}; //you have to add \";\" here. why?"
   ]
  },
  {
   "cell_type": "code",
   "execution_count": null,
   "metadata": {},
   "outputs": [],
   "source": [
    "function<double(double)> func2 = [] (double) \n",
    "{\n",
    "    std::cout<<\"func2\"<<std::endl;\n",
    "    return 2.0;\n",
    "};\n",
    "\n",
    "//assign function pointer to func3 directly\n",
    "function<double(double)> func3 =fu;  //func3 函数指针"
   ]
  },
  {
   "cell_type": "code",
   "execution_count": 4,
   "metadata": {},
   "outputs": [
    {
     "data": {
      "text/plain": []
     },
     "execution_count": 4,
     "metadata": {},
     "output_type": "execute_result"
    }
   ],
   "source": [
    "//函数包装器， T数据类型， F是函数\n",
    "template<typename T, typename F>\n",
    "T test(T t, F f)\n",
    "{\n",
    "    static int count = 0;\n",
    "    count++;//计数器\n",
    "    std::cout<<\"tempate function called \"<< count << \"times\"<<std::endl;\n",
    "    return f(t);   \n",
    "}"
   ]
  },
  {
   "cell_type": "code",
   "execution_count": 5,
   "metadata": {},
   "outputs": [
    {
     "name": "stdout",
     "output_type": "stream",
     "text": [
      "tempate function called\n",
      "func1\n",
      "(int) 1\n"
     ]
    },
    {
     "data": {
      "text/plain": [
       "(int) 1\n"
      ]
     },
     "execution_count": 5,
     "metadata": {},
     "output_type": "execute_result"
    }
   ],
   "source": [
    "test(2, func1)"
   ]
  },
  {
   "cell_type": "code",
   "execution_count": 6,
   "metadata": {},
   "outputs": [
    {
     "name": "stdout",
     "output_type": "stream",
     "text": [
      "tempate function called\n",
      "func2\n",
      "(int) 2\n"
     ]
    },
    {
     "data": {
      "text/plain": [
       "(int) 2\n"
      ]
     },
     "execution_count": 6,
     "metadata": {},
     "output_type": "execute_result"
    }
   ],
   "source": [
    "test(2, func2)"
   ]
  },
  {
   "cell_type": "code",
   "execution_count": 7,
   "metadata": {},
   "outputs": [
    {
     "name": "stdout",
     "output_type": "stream",
     "text": [
      "tempate function called\n",
      "func3\n",
      "(int) 3\n"
     ]
    },
    {
     "data": {
      "text/plain": [
       "(int) 3\n"
      ]
     },
     "execution_count": 7,
     "metadata": {},
     "output_type": "execute_result"
    }
   ],
   "source": [
    "test(3,func3)"
   ]
  },
  {
   "cell_type": "markdown",
   "metadata": {},
   "source": [
    "# Template overload"
   ]
  },
  {
   "cell_type": "code",
   "execution_count": null,
   "metadata": {
    "collapsed": true,
    "jupyter": {
     "outputs_hidden": true
    }
   },
   "outputs": [],
   "source": []
  }
 ],
 "metadata": {
  "kernelspec": {
   "display_name": "C++17",
   "language": "C++17",
   "name": "xcpp17"
  },
  "language_info": {
   "codemirror_mode": "text/x-c++src",
   "file_extension": ".cpp",
   "mimetype": "text/x-c++src",
   "name": "c++",
   "version": "17"
  }
 },
 "nbformat": 4,
 "nbformat_minor": 4
}
