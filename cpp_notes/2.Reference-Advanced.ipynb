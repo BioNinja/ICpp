{
 "cells": [
  {
   "cell_type": "code",
   "execution_count": 1,
   "metadata": {},
   "outputs": [
    {
     "name": "stdout",
     "output_type": "stream",
     "text": [
      "Weclome to my cpp notes\n"
     ]
    },
    {
     "data": {
      "text/plain": [
       "(std::__1::basic_ostream &) @0x7fffea714660\n"
      ]
     },
     "execution_count": 1,
     "metadata": {},
     "output_type": "execute_result"
    }
   ],
   "source": [
    "#include<iostream>\n",
    "#include<stdlib.h>\n",
    "using namespace std;\n",
    "cout <<\"Weclome to my cpp notes\"<<endl;"
   ]
  },
  {
   "cell_type": "markdown",
   "metadata": {},
   "source": [
    "数组的引用\n",
    "\n",
    "```cpp\n",
    "int a[10]；\n",
    "int (&ra)[10]；//错误，引用必须初始化： int (&ra)[10](a);\n",
    "int a[2][5]；\n",
    "int (&ra)[2][5]；//错误,未初始化\n",
    "```"
   ]
  },
  {
   "cell_type": "code",
   "execution_count": 2,
   "metadata": {},
   "outputs": [
    {
     "data": {
      "text/plain": [
       "(int [10]) { 0, 0, 0, 0, 0, 0, 0, 0, 0, 0 }\n"
      ]
     },
     "execution_count": 2,
     "metadata": {},
     "output_type": "execute_result"
    }
   ],
   "source": [
    "int a[10];"
   ]
  },
  {
   "cell_type": "code",
   "execution_count": 3,
   "metadata": {},
   "outputs": [
    {
     "data": {
      "text/plain": [
       "(int [10]) { 0, 0, 0, 0, 0, 0, 0, 0, 0, 0 }\n"
      ]
     },
     "execution_count": 3,
     "metadata": {},
     "output_type": "execute_result"
    }
   ],
   "source": [
    "int (&ra)[10] = a;"
   ]
  },
  {
   "cell_type": "code",
   "execution_count": 4,
   "metadata": {},
   "outputs": [
    {
     "name": "stdout",
     "output_type": "stream",
     "text": [
      "0x10ef453d0\n",
      "0x10ef453d0\n"
     ]
    },
    {
     "data": {
      "text/plain": [
       "(std::__1::basic_ostream &) @0x7fffea714660\n"
      ]
     },
     "execution_count": 4,
     "metadata": {},
     "output_type": "execute_result"
    }
   ],
   "source": [
    "std::cout<<&a<<std::endl;\n",
    "std::cout<<&ra<<std::endl;"
   ]
  },
  {
   "cell_type": "code",
   "execution_count": null,
   "metadata": {},
   "outputs": [
    {
     "name": "stderr",
     "output_type": "stream",
     "text": [
      "In file included from input_line_2:1:\n",
      "\u001b[1m/Users/bioninja/program/cling_2017-04-29_mac1012/include/cling/Interpreter/RuntimeUniverse.h:165:11: \u001b[0m\u001b[0;1;31merror: \u001b[0m\u001b[1marray 'new' cannot have initialization arguments\u001b[0m\n"
     ]
    }
   ],
   "source": [
    "int ah[2][3] = {1,2,3,4,5,6};\n",
    "int(&ra2)[2][3](ah);"
   ]
  },
  {
   "cell_type": "code",
   "execution_count": null,
   "metadata": {
    "collapsed": true
   },
   "outputs": [],
   "source": [
    "for (int i = 0; i < 2; i++)\n",
    "{\n",
    "    for (int j = 0; j < 3; j++)\n",
    "    {\n",
    "         std::cout << \" \" << ra[i][j];\n",
    "    }\n",
    "     std::cout << \"\\n\";\n",
    "}"
   ]
  },
  {
   "cell_type": "code",
   "execution_count": 1,
   "metadata": {},
   "outputs": [
    {
     "data": {
      "text/plain": []
     },
     "execution_count": 1,
     "metadata": {},
     "output_type": "execute_result"
    }
   ],
   "source": [
    "int jia(int a, int b)\n",
    "{\n",
    "    return a + b;\n",
    "}"
   ]
  },
  {
   "cell_type": "code",
   "execution_count": 2,
   "metadata": {},
   "outputs": [
    {
     "data": {
      "text/plain": [
       "(int) 3\n"
      ]
     },
     "execution_count": 2,
     "metadata": {},
     "output_type": "execute_result"
    }
   ],
   "source": [
    "jia(1,2);"
   ]
  },
  {
   "cell_type": "markdown",
   "metadata": {},
   "source": [
    "# 函数指针的引用\n",
    "\n",
    "函数指针\n",
    "```cpp\n",
    "    int (*p)(int, int);//指针指向函数\n",
    "    p = jia;\n",
    "```\n",
    "\n",
    "函数指针的引用\n",
    "\n",
    "```cpp\n",
    "    int (* & rp)(int, int)(jia); //必须初始化\n",
    "```\n",
    "\n",
    "如果函数返回值是一个函数指针的引用如何表达：\n",
    "```cpp\n",
    "    int (*& )(int, int)；//先分解数据类型，再考虑引用\n",
    "    int (*& chp(int(*& rp)(int, int)))(int, int) //int(*& rp)(int, int))作为参数\n",
    "    {\n",
    "\trp = jia;\n",
    "\treturn rp;\n",
    "    }\n",
    "    \n",
    "    \n",
    "```"
   ]
  },
  {
   "cell_type": "code",
   "execution_count": 3,
   "metadata": {},
   "outputs": [
    {
     "data": {
      "text/plain": []
     },
     "execution_count": 3,
     "metadata": {},
     "output_type": "execute_result"
    }
   ],
   "source": [
    "void change(int(* & rp)(int,int))\n",
    "{\n",
    "    rp = jia;\n",
    "}"
   ]
  },
  {
   "cell_type": "code",
   "execution_count": null,
   "metadata": {},
   "outputs": [
    {
     "name": "stderr",
     "output_type": "stream",
     "text": [
      "\u001b[1minput_line_9:3:1: \u001b[0m\u001b[0;1;31merror: \u001b[0m"
     ]
    }
   ],
   "source": [
    "int (*& changep(int(*& rp)(int, int)))(int, int) \n",
    "{\n",
    "    rp = jia;\n",
    "    return rp;\n",
    "}   "
   ]
  },
  {
   "cell_type": "code",
   "execution_count": null,
   "metadata": {
    "collapsed": true
   },
   "outputs": [],
   "source": [
    "int(*p)(int a, int b)(jia);\n",
    "std::cout << p(1, 2) << std::endl;\n",
    "\n",
    "p = changep(p);\n",
    "std::cout << p(1, 2) << std::endl;"
   ]
  },
  {
   "cell_type": "markdown",
   "metadata": {},
   "source": [
    "# 左值和右值的引用\n"
   ]
  },
  {
   "cell_type": "code",
   "execution_count": 2,
   "metadata": {},
   "outputs": [
    {
     "name": "stdout",
     "output_type": "stream",
     "text": [
      "0x10a8ae3f8\n"
     ]
    },
    {
     "data": {
      "text/plain": [
       "(std::__1::basic_ostream &) @0x7fffea714660\n"
      ]
     },
     "execution_count": 2,
     "metadata": {},
     "output_type": "execute_result"
    }
   ],
   "source": [
    "int num2 = 5;\n",
    "int &ref_num = num2;\n",
    "int * && ref_num2 = &ref_num;\n",
    "std::cout<<ref_num2<<std::endl;"
   ]
  },
  {
   "cell_type": "code",
   "execution_count": 3,
   "metadata": {},
   "outputs": [
    {
     "name": "stdout",
     "output_type": "stream",
     "text": [
      "5\n",
      "5\n",
      "5\n"
     ]
    },
    {
     "data": {
      "text/plain": [
       "(std::__1::basic_ostream &) @0x7fffea714660\n"
      ]
     },
     "execution_count": 3,
     "metadata": {},
     "output_type": "execute_result"
    }
   ],
   "source": [
    "std::cout<<*ref_num2<<std::endl;\n",
    "std::cout<<ref_num<<std::endl;\n",
    "std::cout<<num2<<std::endl;"
   ]
  },
  {
   "cell_type": "code",
   "execution_count": null,
   "metadata": {
    "collapsed": true
   },
   "outputs": [],
   "source": []
  }
 ],
 "metadata": {
  "kernelspec": {
   "display_name": "C++11",
   "language": "",
   "name": "cling-cpp11"
  },
  "language_info": {
   "codemirror_mode": "text/x-c++src",
   "file_extension": ".c++",
   "mimetype": " text/x-c++src",
   "name": "c++"
  }
 },
 "nbformat": 4,
 "nbformat_minor": 2
}
