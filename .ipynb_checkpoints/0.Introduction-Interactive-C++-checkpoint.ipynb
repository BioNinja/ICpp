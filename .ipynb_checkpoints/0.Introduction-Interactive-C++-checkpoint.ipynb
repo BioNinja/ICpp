{
 "cells": [
  {
   "cell_type": "markdown",
   "metadata": {},
   "source": [
    "# A short tutorial for how to use Cling interactive C++ interpreter"
   ]
  },
  {
   "cell_type": "markdown",
   "metadata": {},
   "source": [
    "## Summary of Metaprocessor commands\n",
    "Cling understands some meta-commands that are not valid C++. Those commands are usefull to instruct cling to carry out certain administrative tasks, such as\n",
    "\n",
    "    .x test.cpp – load a file (if the file defines void test() it will be executed)\n",
    "    .L libname – load a libary or file(.cpp)\n",
    "    .x filename.cxx – loads filename and calls void filename() if defined\n",
    "    .I path – adds an include path\n",
    "    .printAST – shows the abstract syntax tree after each processed entity\n",
    "    .q – exit cling\n",
    "    .help – display a brief description"
   ]
  },
  {
   "cell_type": "code",
   "execution_count": 1,
   "metadata": {},
   "outputs": [
    {
     "name": "stdout",
     "output_type": "stream",
     "text": [
      "hell0,Interactive C++\n"
     ]
    },
    {
     "data": {
      "text/plain": [
       "(std::__1::basic_ostream &) @0x7fffea714660\n"
      ]
     },
     "execution_count": 1,
     "metadata": {},
     "output_type": "execute_result"
    }
   ],
   "source": [
    "#include <iostream>\n",
    "using namespace std;\n",
    "\n",
    "cout<<\"hell0,Interactive C++\"<<endl;"
   ]
  },
  {
   "cell_type": "markdown",
   "metadata": {},
   "source": [
    "### tips 1. define single function on single cell, or will it throws error"
   ]
  },
  {
   "cell_type": "code",
   "execution_count": 2,
   "metadata": {},
   "outputs": [
    {
     "data": {
      "text/plain": []
     },
     "execution_count": 2,
     "metadata": {},
     "output_type": "execute_result"
    }
   ],
   "source": [
    "void test() \n",
    "{\n",
    "    std::cout <<\"just a test\"<<endl;\n",
    "}"
   ]
  },
  {
   "cell_type": "code",
   "execution_count": 3,
   "metadata": {},
   "outputs": [
    {
     "name": "stdout",
     "output_type": "stream",
     "text": [
      "just a test\n"
     ]
    },
    {
     "data": {
      "text/plain": [
       "(void) @0x7fff5253f5b0\n"
      ]
     },
     "execution_count": 3,
     "metadata": {},
     "output_type": "execute_result"
    }
   ],
   "source": [
    "test()"
   ]
  },
  {
   "cell_type": "code",
   "execution_count": null,
   "metadata": {},
   "outputs": [
    {
     "name": "stderr",
     "output_type": "stream",
     "text": [
      "\u001b[1minput_line_10:7:1: \u001b[0m\u001b[0;1;31merror: \u001b[0m\u001b[1mfunction"
     ]
    }
   ],
   "source": [
    "void test2() \n",
    "{\n",
    "    std::cout <<\"just a test2\"<<endl;\n",
    "}\n",
    "void test3() \n",
    "{\n",
    "    std::cout <<\"just a test3\"<<endl;\n",
    "}"
   ]
  },
  {
   "cell_type": "markdown",
   "metadata": {},
   "source": [
    "### tips 2. multi class definition could be on the same cell."
   ]
  },
  {
   "cell_type": "code",
   "execution_count": 1,
   "metadata": {},
   "outputs": [
    {
     "data": {
      "text/plain": []
     },
     "execution_count": 1,
     "metadata": {},
     "output_type": "execute_result"
    }
   ],
   "source": [
    "#include <iostream>\n",
    "using namespace std;\n",
    "\n",
    "class B1\n",
    "{\n",
    "public:\n",
    "    B1(int i)\n",
    "    {\n",
    "        cout << \"B1 \" << i << endl;\n",
    "    }\n",
    "};\n",
    "\n",
    "class B2\n",
    "{\n",
    "public:\n",
    "    B2(int i)\n",
    "    {\n",
    "        cout << \"B2 \" << i << endl;\n",
    "    }\n",
    "};\n",
    "\n",
    "class B3\n",
    "{\n",
    "public:\n",
    "    B3()\n",
    "    {\n",
    "        cout << \"B3 \" << endl;\n",
    "    }\n",
    "};\n",
    "\n",
    "class Derived : public B2,  public B1, virtual public B3\n",
    "{\n",
    "public:\n",
    "    Derived(int a, int b, int c, int d, int e): B1(a), b2(d), b1(c), B2(b)\n",
    "    {\n",
    "        m = e;\n",
    "        cout << \"Derived\"<<endl;\n",
    "    }\n",
    "protected:\n",
    "    B1 b1;\n",
    "    B2 b2;\n",
    "    B3 b3;\n",
    "    int m;\n",
    "};"
   ]
  },
  {
   "cell_type": "code",
   "execution_count": 2,
   "metadata": {},
   "outputs": [
    {
     "name": "stdout",
     "output_type": "stream",
     "text": [
      "B3 \n",
      "B2 2\n",
      "B1 1\n",
      "B1 3\n",
      "B2 4\n",
      "B3 \n",
      "Derived\n"
     ]
    },
    {
     "data": {
      "text/plain": [
       "(Derived &) @0x102f33238\n"
      ]
     },
     "execution_count": 2,
     "metadata": {},
     "output_type": "execute_result"
    }
   ],
   "source": [
    "Derived test(1, 2, 3, 4, 5);"
   ]
  },
  {
   "cell_type": "markdown",
   "metadata": {},
   "source": [
    "### tips 3. Calculation"
   ]
  },
  {
   "cell_type": "code",
   "execution_count": 3,
   "metadata": {},
   "outputs": [
    {
     "data": {
      "text/plain": [
       "(int) 100\n"
      ]
     },
     "execution_count": 3,
     "metadata": {},
     "output_type": "execute_result"
    }
   ],
   "source": [
    "int a = 100;"
   ]
  },
  {
   "cell_type": "code",
   "execution_count": 4,
   "metadata": {},
   "outputs": [
    {
     "data": {
      "text/plain": [
       "(double) 9.000000\n"
      ]
     },
     "execution_count": 4,
     "metadata": {},
     "output_type": "execute_result"
    }
   ],
   "source": [
    "double b = 9.0;"
   ]
  },
  {
   "cell_type": "code",
   "execution_count": 5,
   "metadata": {},
   "outputs": [
    {
     "data": {
      "text/plain": [
       "(double) 109.000000\n"
      ]
     },
     "execution_count": 5,
     "metadata": {},
     "output_type": "execute_result"
    }
   ],
   "source": [
    "a + b;"
   ]
  },
  {
   "cell_type": "code",
   "execution_count": null,
   "metadata": {
    "collapsed": true
   },
   "outputs": [],
   "source": []
  }
 ],
 "metadata": {
  "kernelspec": {
   "display_name": "C++11",
   "language": "",
   "name": "cling-cpp11"
  },
  "language_info": {
   "codemirror_mode": "text/x-c++src",
   "file_extension": ".c++",
   "mimetype": " text/x-c++src",
   "name": "c++"
  }
 },
 "nbformat": 4,
 "nbformat_minor": 2
}
