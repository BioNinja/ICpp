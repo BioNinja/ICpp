{
 "cells": [
  {
   "cell_type": "markdown",
   "metadata": {},
   "source": [
    "# 指针函数， 二级指针"
   ]
  },
  {
   "cell_type": "code",
   "execution_count": 3,
   "metadata": {},
   "outputs": [
    {
     "name": "stdout",
     "output_type": "stream",
     "text": [
      "0x1029ef448\n",
      "0x1029ef458\n",
      "10\n",
      "10\n"
     ]
    },
    {
     "data": {
      "text/plain": [
       "(std::__1::basic_ostream &) @0x7fffec9f9660\n"
      ]
     },
     "execution_count": 3,
     "metadata": {},
     "output_type": "execute_result"
    }
   ],
   "source": [
    "int num=10;\n",
    "int *p = &num;\n",
    "int **pp = &p;\n",
    "cout<< *pp<<endl;\n",
    "cout<< &pp <<endl;\n",
    "\n",
    "cout << **pp<<endl;\n",
    "cout <<num<<endl;"
   ]
  },
  {
   "cell_type": "code",
   "execution_count": 2,
   "metadata": {},
   "outputs": [
    {
     "name": "stderr",
     "output_type": "stream",
     "text": [
      "\u001b[1minput_line_4:3:10: \u001b[0m\u001b[0;1;31merror: \u001b[0m\u001b[1mno member named 'cout' in namespace 'std'\u001b[0m\n",
      "    std::cout<<\"this is a pointer points to a function :\"<< args<< std::endl;\n",
      "\u001b[0;1;32m    ~~~~~^\n",
      "\u001b[0m\u001b[1minput_line_4:3:73: \u001b[0m\u001b[0;1;31merror: \u001b[0m\u001b[1mno member named 'endl' in namespace 'std'\u001b[0m\n",
      "    std::cout<<\"this is a pointer points to a function :\"<< args<< std::endl;\n",
      "\u001b[0;1;32m                                                                   ~~~~~^\n",
      "\u001b[0m\u001b[1minput_line_4:7:7: \u001b[0m\u001b[0;1;35mwarning: \u001b[0m\u001b[1mISO C++11 does not allow conversion from string literal to 'char *' [-Wwritable-strings]\u001b[0m\n",
      "pfunc(\"test\");\n",
      "\u001b[0;1;32m      ^\n",
      "\u001b[0m"
     ]
    },
    {
     "ename": "ename",
     "evalue": "evalue",
     "output_type": "error",
     "traceback": []
    }
   ],
   "source": [
    "void print(char* args)\n",
    "{\n",
    "    std::cout<<\"this is a pointer points to a function :\"<< args<< std::endl;\n",
    "}\n",
    "void (*pfunc)(char * args) = print;\n",
    "pfunc(\"test\");"
   ]
  },
  {
   "cell_type": "markdown",
   "metadata": {},
   "source": [
    "# 函数指针的引用\n",
    "\n",
    "1. 一般引用\n",
    "\n",
    "声明指针函数：\n",
    "```cpp\n",
    "    int func( double );  \n",
    "    int (* const pfunc)(double) = func;       // pfunc是指向函数func()的常量指针  \n",
    "    int (&rfunc)(double) = func;                  // rfunc是函数func()的引用\n",
    "```    \n",
    "从编码实践角度来看，指向函数的常量指针和函数的引用并无很大不同。除了一点，那就是指针可以显式地使用反引用语法，而对引用是不能使用显式反引 用语法的，除非它被隐式转换成指向函数的指针 。\n",
    "```cpp\n",
    "    a = pfunc( 12.3 );          // 直接用函数指针名调用函数  \n",
    "    a = (*pfunc)(12.3);         // 使用反引用语法也是可以的  \n",
    "    a = rfunc( 12.3 );          // 通过引用调用函数  \n",
    "    a = func( 12.3 );           // 直接调用函数本身  \n",
    "    a = (*rfunc)(12.3);         // 把引用(隐式)转换成指向函数的指针,再使用反引用语法  \n",
    "    a = (*func)(12.3);          // 把函数本身(隐式)转换成指向函数的指针,再使用反引用语法 \n",
    "```    \n",
    "2. 函数指针的引用\n",
    "\n",
    "看懂声明,注意cpp的初始化的方法：\n",
    "```cpp\n",
    "    int (*& rp)(double) = func; // int (*& rp)(int, int) ?\n",
    "    int(*& changeP)(int (*& rp)(int, int)))(int, int) //看懂？ 其中一个是函数引用的参数\n",
    "```"
   ]
  },
  {
   "cell_type": "code",
   "execution_count": 4,
   "metadata": {},
   "outputs": [
    {
     "data": {
      "text/plain": []
     },
     "execution_count": 4,
     "metadata": {},
     "output_type": "execute_result"
    }
   ],
   "source": [
    "void print(char* args)\n",
    "{\n",
    "    std::cout<<\"this is a pointer points to a function :\"<< args<< std::endl;\n",
    "}"
   ]
  },
  {
   "cell_type": "code",
   "execution_count": null,
   "metadata": {},
   "outputs": [
    {
     "name": "stderr",
     "output_type": "stream",
     "text": [
      "\u001b[1minput_line_11:3:9: \u001b[0m\u001b[0;1;31merror: \u001b[0m\u001b[1mexpected "
     ]
    }
   ],
   "source": [
    "void (*pfunc)(char * args) = print;//pointer of function\n",
    "void (*&) rfunc(char * args) = pfunc;//reference of function"
   ]
  },
  {
   "cell_type": "markdown",
   "metadata": {},
   "source": [
    "# Const 指针区别"
   ]
  },
  {
   "cell_type": "markdown",
   "metadata": {},
   "source": [
    "1. int const *  |  p  \n",
    "p就是一个普通的指针变量，可以指向任意一个int值，但是指向的int值是一个不变常量\n",
    "\n",
    "2. int *  |  const p \n",
    "p是const常量，p是const所以不能变，也就是p指向的地址不可变，但是指向的地址中对应的内存是可改变的"
   ]
  },
  {
   "cell_type": "code",
   "execution_count": null,
   "metadata": {
    "collapsed": true
   },
   "outputs": [],
   "source": [
    "int num3=10;\n",
    "const int *p1 = &num3;\n",
    "int const *p2 = &num3;\n",
    "int * const p3= &num3;\n",
    "\n",
    "const int * const p4 = &num3;\n",
    "int const * const p5 = &num3; //表示p5是一个指针常量"
   ]
  }
 ],
 "metadata": {
  "kernelspec": {
   "display_name": "C++11",
   "language": "",
   "name": "cling-cpp11"
  },
  "language_info": {
   "codemirror_mode": "text/x-c++src",
   "file_extension": ".c++",
   "mimetype": " text/x-c++src",
   "name": "c++"
  }
 },
 "nbformat": 4,
 "nbformat_minor": 2
}
