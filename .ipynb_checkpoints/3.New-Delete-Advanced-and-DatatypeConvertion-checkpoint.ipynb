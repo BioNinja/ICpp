{
 "cells": [
  {
   "cell_type": "markdown",
   "metadata": {},
   "source": [
    "# New, Delete\n",
    "\n",
    "\n",
    "\n",
    "p1,p3,p5作为指针变量在栈区，存储的地址指向堆区  \n",
    "手动释放内存  \n",
    "\n",
    "\n",
    "\n",
    "p2,p4,p6作为指针变量在栈区，存储的地址在静态区。缓冲区。  \n",
    "自动释放内存，用于分配用完了就不会再用的数据  \n",
    "避免内存泄漏，自动释放内存。牺牲了内存访问独立性，  \n",
    "\n",
    "```cpp\n",
    "#include<iostream>\n",
    "#include<new>\n",
    "const int buf(512);//限定一个常量整数512\n",
    "int N(5);//数组的长度\n",
    "char buffer[buf] = {0};//静态区\n",
    "\n",
    "\n",
    "using namespace std;\n",
    "void main()\n",
    "{\n",
    "\tdouble *p1, *p2;\n",
    "\n",
    "\tstd::cout << \"\\n\\n\\n\";\n",
    "\tp1 = new double[N];//分配内存，N个元素的大小\n",
    "\tp2 = new (buffer)double[N];//指定区域分配内存\n",
    "\tfor (int i = 0; i < N; i++)\n",
    "\t{\n",
    "\t\t\tp1[i] = p2[i] = i + 10.8;//对于数组初始化\n",
    "\t\t\tstd::cout << \"p1===   \" << &p1[i] << \"  \" << p1[i];\n",
    "\t\t\tstd::cout << \"   p2===   \" << &p2[i] << \"  \" << p2[i] << std::endl;\n",
    "\t}\n",
    "\n",
    "\tstd::cin.get();\n",
    "}\n",
    "```"
   ]
  },
  {
   "cell_type": "code",
   "execution_count": null,
   "metadata": {},
   "outputs": [],
   "source": [
    "#include<iostream>\n",
    "#include<new>\n",
    "double *p1, *p2;\n",
    "const int N(5);//数组的长度\n",
    "p1 = new double[N];//分配内存，N个元素的大小\n",
    "p2 = new (buffer)double[N];//指定区域分配内存"
   ]
  },
  {
   "cell_type": "code",
   "execution_count": 1,
   "metadata": {},
   "outputs": [
    {
     "data": {
      "text/plain": []
     },
     "execution_count": 1,
     "metadata": {},
     "output_type": "execute_result"
    }
   ],
   "source": [
    "#include<iostream>\n",
    "#include<new>"
   ]
  },
  {
   "cell_type": "code",
   "execution_count": 2,
   "metadata": {},
   "outputs": [
    {
     "data": {
      "text/plain": [
       "(float) 10.00000f\n"
      ]
     },
     "execution_count": 2,
     "metadata": {},
     "output_type": "execute_result"
    }
   ],
   "source": [
    "//default covertion\n",
    "int num = 10;\n",
    "float fnum = num;"
   ]
  },
  {
   "cell_type": "code",
   "execution_count": 3,
   "metadata": {},
   "outputs": [
    {
     "data": {
      "text/plain": [
       "(int *) 0x7f8a5e2032d0\n"
      ]
     },
     "execution_count": 3,
     "metadata": {},
     "output_type": "execute_result"
    }
   ],
   "source": [
    "//pointer, clang style.\n",
    "int *p = new int[10];\n",
    "int *pnew = (int*) p;"
   ]
  },
  {
   "cell_type": "code",
   "execution_count": 4,
   "metadata": {},
   "outputs": [
    {
     "data": {
      "text/plain": [
       "(int) 78\n"
      ]
     },
     "execution_count": 4,
     "metadata": {},
     "output_type": "execute_result"
    }
   ],
   "source": [
    "//static_cast<需要转换的数据类型>(要转换的数据)80% static_cast\n",
    "int n = static_cast<int>(78.98);"
   ]
  },
  {
   "cell_type": "code",
   "execution_count": 5,
   "metadata": {},
   "outputs": [
    {
     "data": {
      "text/plain": [
       "(int *) 0x7f8a5e302dc0\n"
      ]
     },
     "execution_count": 5,
     "metadata": {},
     "output_type": "execute_result"
    }
   ],
   "source": [
    "int *p2 = static_cast<int*> (malloc(100));"
   ]
  },
  {
   "cell_type": "code",
   "execution_count": 6,
   "metadata": {},
   "outputs": [
    {
     "name": "stdout",
     "output_type": "stream",
     "text": [
      "0x10412a530\n"
     ]
    },
    {
     "data": {
      "text/plain": [
       "(std::__1::basic_ostream &) @0x7fffea714660\n"
      ]
     },
     "execution_count": 6,
     "metadata": {},
     "output_type": "execute_result"
    }
   ],
   "source": [
    "//const_cast去掉常量指针属性 %5\n",
    "int numarr[3] = { 1, 2, 3 };\n",
    "const int *p3 = numarr;\n",
    "int *pnew2 = const_cast<int *>(p3);\n",
    "\n",
    "std::cout<< &pnew2<<std::endl;"
   ]
  },
  {
   "cell_type": "code",
   "execution_count": null,
   "metadata": {
    "collapsed": true
   },
   "outputs": [],
   "source": [
    "#include <stdio.h>\n",
    "//reinterpret_cast %1  专业转换指针，最安全\n",
    "//指针。强类型，类型决定了数据的解析方式，内存占多大\n",
    "int num3 = 3;\n",
    "char *p4 = reinterpret_cast<char *>(&num3);\n",
    "for (int i = 0; i < 4; i++)\n",
    "{\n",
    "    printf(\"%c,%d,%p\\n\", *(p4+i), *(p4+i), p4+i);\n",
    "}\n",
    "printf(\"%d\",num3)"
   ]
  },
  {
   "cell_type": "code",
   "execution_count": null,
   "metadata": {
    "collapsed": true
   },
   "outputs": [],
   "source": [
    "//dynamic_cast 类的指针之间的转换"
   ]
  }
 ],
 "metadata": {
  "kernelspec": {
   "display_name": "C++11",
   "language": "",
   "name": "cling-cpp11"
  },
  "language_info": {
   "codemirror_mode": "text/x-c++src",
   "file_extension": ".c++",
   "mimetype": " text/x-c++src",
   "name": "c++"
  }
 },
 "nbformat": 4,
 "nbformat_minor": 2
}
